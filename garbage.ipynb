{
 "cells": [
  {
   "cell_type": "code",
   "execution_count": 46,
   "id": "a846b6cf",
   "metadata": {},
   "outputs": [],
   "source": [
    "import os\n",
    "import numpy as np\n",
    "from tensorflow.keras.preprocessing.image import img_to_array, load_img\n",
    "from tensorflow.keras.utils import to_categorical\n",
    "\n",
    "# Zdefiniuj podstawową ścieżkę do danych\n",
    "base_dir = 'Garbage/Garbage classification/Garbage classification'\n",
    "\n",
    "# Funkcja do ładowania danych z pliku\n",
    "def load_data(file_path):\n",
    "    images = []\n",
    "    labels = []\n",
    "    with open(file_path, 'r') as file:\n",
    "        for line in file:\n",
    "            parts = line.strip().split(' ')\n",
    "            image_name, class_label = parts[0], int(parts[1]) - 1\n",
    "            image_path = os.path.join(base_dir, image_name)\n",
    "            if os.path.isfile(image_path):\n",
    "                images.append(image_path)\n",
    "                labels.append(class_label)\n",
    "            else:\n",
    "                print(f\"File not found: {image_path}\")\n",
    "    return images, np.array(labels)\n",
    "\n",
    "# Wczytywanie danych treningowych i walidacyjnych\n",
    "train_images, train_labels = load_data(os.path.join(base_dir, 'one-indexed-files-notrash_train.txt'))\n",
    "val_images, val_labels = load_data(os.path.join(base_dir, 'one-indexed-files-notrash_val.txt'))"
   ]
  },
  {
   "cell_type": "code",
   "execution_count": 47,
   "id": "a46a53fe",
   "metadata": {},
   "outputs": [],
   "source": [
    "def data_generator(image_paths, labels, batch_size=32):\n",
    "    num_samples = len(image_paths)\n",
    "    while True:  # Loop forever so the generator never terminates\n",
    "        for offset in range(0, num_samples, batch_size):\n",
    "            batch_samples = image_paths[offset:offset+batch_size]\n",
    "            batch_labels = labels[offset:offset+batch_size]\n",
    "\n",
    "            images = []\n",
    "            for batch_sample in batch_samples:\n",
    "                img = load_img(batch_sample, target_size=(150, 150))\n",
    "                img = img_to_array(img)\n",
    "                img /= 255.0  # Normalizacja\n",
    "                images.append(img)\n",
    "\n",
    "            X_batch = np.array(images)\n",
    "            y_batch = to_categorical(batch_labels, num_classes=6)  # Zakładając, że mamy 6 klas\n",
    "\n",
    "            yield X_batch, y_batch"
   ]
  },
  {
   "cell_type": "code",
   "execution_count": 48,
   "id": "ddf7bd20",
   "metadata": {},
   "outputs": [],
   "source": [
    "from tensorflow.keras.models import Sequential\n",
    "from tensorflow.keras.layers import Conv2D, MaxPooling2D, Flatten, Dense, Dropout\n",
    "\n",
    "# Przykładowa architektura modelu\n",
    "model = Sequential([\n",
    "    Conv2D(32, (3, 3), activation='relu', input_shape=(150, 150, 3)),\n",
    "    MaxPooling2D(2, 2),\n",
    "    Conv2D(64, (3, 3), activation='relu'),\n",
    "    MaxPooling2D(2, 2),\n",
    "    Conv2D(128, (3, 3), activation='relu'),\n",
    "    MaxPooling2D(2, 2),\n",
    "    Flatten(),\n",
    "    Dense(512, activation='relu'),\n",
    "    Dropout(0.5),\n",
    "    Dense(6, activation='softmax')  # 6 klas wyjściowych\n",
    "])\n",
    "\n",
    "# Kompilacja modelu\n",
    "model.compile(loss='categorical_crossentropy', optimizer='adam', metrics=['accuracy'])"
   ]
  },
  {
   "cell_type": "code",
   "execution_count": 49,
   "id": "494635f1",
   "metadata": {},
   "outputs": [],
   "source": [
    "# Ustawienie rozmiaru partii\n",
    "batch_size = 32\n",
    "\n",
    "# Inicjalizacja generatorów danych\n",
    "train_generator = data_generator(train_images, train_labels, batch_size=batch_size)\n",
    "validation_generator = data_generator(val_images, val_labels, batch_size=batch_size)"
   ]
  },
  {
   "cell_type": "code",
   "execution_count": 50,
   "id": "bf6549a0",
   "metadata": {},
   "outputs": [
    {
     "name": "stdout",
     "output_type": "stream",
     "text": [
      "Epoch 1/10\n",
      "55/55 [==============================] - 25s 441ms/step - loss: 1.6348 - accuracy: 0.3403 - val_loss: 1.4179 - val_accuracy: 0.4250\n",
      "Epoch 2/10\n",
      "55/55 [==============================] - 29s 528ms/step - loss: 1.3732 - accuracy: 0.4447 - val_loss: 1.3612 - val_accuracy: 0.4469\n",
      "Epoch 3/10\n",
      "55/55 [==============================] - 29s 525ms/step - loss: 1.2343 - accuracy: 0.5098 - val_loss: 1.2554 - val_accuracy: 0.5188\n",
      "Epoch 4/10\n",
      "55/55 [==============================] - 29s 529ms/step - loss: 1.1035 - accuracy: 0.5553 - val_loss: 1.3640 - val_accuracy: 0.4781\n",
      "Epoch 5/10\n",
      "55/55 [==============================] - 28s 511ms/step - loss: 0.9522 - accuracy: 0.6348 - val_loss: 1.3610 - val_accuracy: 0.5437\n",
      "Epoch 6/10\n",
      "55/55 [==============================] - 30s 547ms/step - loss: 0.8467 - accuracy: 0.6786 - val_loss: 1.2399 - val_accuracy: 0.5688\n",
      "Epoch 7/10\n",
      "55/55 [==============================] - 31s 551ms/step - loss: 0.7389 - accuracy: 0.7212 - val_loss: 1.3656 - val_accuracy: 0.5063\n",
      "Epoch 8/10\n",
      "55/55 [==============================] - 30s 537ms/step - loss: 0.6337 - accuracy: 0.7684 - val_loss: 1.4357 - val_accuracy: 0.5531\n",
      "Epoch 9/10\n",
      "55/55 [==============================] - 28s 506ms/step - loss: 0.5000 - accuracy: 0.8243 - val_loss: 1.5626 - val_accuracy: 0.5844\n",
      "Epoch 10/10\n",
      "55/55 [==============================] - 31s 557ms/step - loss: 0.4551 - accuracy: 0.8439 - val_loss: 1.6193 - val_accuracy: 0.5656\n"
     ]
    }
   ],
   "source": [
    "# Trenowanie modelu\n",
    "history = model.fit(\n",
    "    train_generator,\n",
    "    steps_per_epoch=len(train_images) // batch_size,\n",
    "    epochs=10,\n",
    "    validation_data=validation_generator,\n",
    "    validation_steps=len(val_images) // batch_size\n",
    ")"
   ]
  }
 ],
 "metadata": {
  "kernelspec": {
   "display_name": "Python 3 (ipykernel)",
   "language": "python",
   "name": "python3"
  },
  "language_info": {
   "codemirror_mode": {
    "name": "ipython",
    "version": 3
   },
   "file_extension": ".py",
   "mimetype": "text/x-python",
   "name": "python",
   "nbconvert_exporter": "python",
   "pygments_lexer": "ipython3",
   "version": "3.9.13"
  }
 },
 "nbformat": 4,
 "nbformat_minor": 5
}
